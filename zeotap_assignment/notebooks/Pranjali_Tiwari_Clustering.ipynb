{
 "cells": [
  {
   "cell_type": "code",
   "execution_count": null,
   "id": "e3262664-bdee-488a-815c-9e562babbebc",
   "metadata": {},
   "outputs": [],
   "source": [
    "# Customer Segmentation\n",
    "#This notebook showcases the customer segmentation process using K-Means clustering and evaluates the optimal number of clusters using the Davies-Bouldin Index.\n"
   ]
  },
  {
   "cell_type": "code",
   "execution_count": null,
   "id": "5d425ed3-d60b-47c3-835e-e9de6bc4f33a",
   "metadata": {},
   "outputs": [],
   "source": [
    "## Data Preparation\n",
    "from sklearn.cluster import KMeans\n",
    "from sklearn.metrics import davies_bouldin_score\n",
    "from sklearn.decomposition import PCA\n",
    "from sklearn.preprocessing import StandardScaler\n",
    "import pandas as pd\n",
    "import matplotlib.pyplot as plt\n",
    "import seaborn as sns\n",
    "\n",
    "# Load datasets\n",
    "customers = pd.read_csv('data/Customers.csv')\n",
    "transactions = pd.read_csv('data/Transactions.csv')\n",
    "\n",
    "# Create customer aggregation\n",
    "customer_agg = customers[['CustomerID']].copy()\n",
    "transaction_agg = transactions.groupby('CustomerID').agg({\n",
    "    'TotalValue': 'sum',\n",
    "    'Quantity': 'sum',\n",
    "    'ProductID': 'nunique'\n",
    "}).reset_index()\n",
    "transaction_agg.rename(columns={'ProductID': 'NumProductsPurchased'}, inplace=True)\n",
    "\n",
    "# Merge and fill missing values\n",
    "customer_agg = customer_agg.merge(transaction_agg, on='CustomerID', how='left')\n",
    "customer_agg.fillna(0, inplace=True)\n",
    "display(customer_agg.head())\n"
   ]
  },
  {
   "cell_type": "code",
   "execution_count": null,
   "id": "75d39c2d-1992-45ac-b461-a0b1f42e6d5d",
   "metadata": {},
   "outputs": [],
   "source": [
    "## K-Means Clustering\n",
    "scaler = StandardScaler()\n",
    "features = ['TotalValue', 'Quantity', 'NumProductsPurchased']\n",
    "customer_agg_scaled = scaler.fit_transform(customer_agg[features])\n",
    "\n",
    "# Find the optimal number of clusters\n",
    "db_scores = []\n",
    "for k in range(2, 11):\n",
    "    kmeans = KMeans(n_clusters=k, random_state=42)\n",
    "    kmeans.fit(customer_agg_scaled)\n",
    "    db_scores.append((k, davies_bouldin_score(customer_agg_scaled, kmeans.labels_)))\n",
    "\n",
    "# Select best k\n",
    "best_k = min(db_scores, key=lambda x: x[1])[0]\n",
    "print(f\"Optimal number of clusters: {best_k}\")\n",
    "\n",
    "kmeans = KMeans(n_clusters=best_k, random_state=42)\n",
    "customer_agg['Cluster'] = kmeans.fit_predict(customer_agg_scaled)\n"
   ]
  },
  {
   "cell_type": "code",
   "execution_count": null,
   "id": "7bb2fca8-ceb9-47f8-9c58-465dff21a8f4",
   "metadata": {},
   "outputs": [],
   "source": [
    "## Visualizing Clusters\n",
    "pca = PCA(n_components=2)\n",
    "reduced_data = pca.fit_transform(customer_agg_scaled)\n",
    "\n",
    "plt.figure(figsize=(10, 6))\n",
    "sns.scatterplot(x=reduced_data[:, 0], y=reduced_data[:, 1], hue=customer_agg['Cluster'], palette='Set2')\n",
    "plt.title('Customer Segments')\n",
    "plt.xlabel('PCA Component 1')\n",
    "plt.ylabel('PCA Component 2')\n",
    "plt.show()\n"
   ]
  }
 ],
 "metadata": {
  "kernelspec": {
   "display_name": "Python 3 (ipykernel)",
   "language": "python",
   "name": "python3"
  },
  "language_info": {
   "codemirror_mode": {
    "name": "ipython",
    "version": 3
   },
   "file_extension": ".py",
   "mimetype": "text/x-python",
   "name": "python",
   "nbconvert_exporter": "python",
   "pygments_lexer": "ipython3",
   "version": "3.12.1"
  }
 },
 "nbformat": 4,
 "nbformat_minor": 5
}
