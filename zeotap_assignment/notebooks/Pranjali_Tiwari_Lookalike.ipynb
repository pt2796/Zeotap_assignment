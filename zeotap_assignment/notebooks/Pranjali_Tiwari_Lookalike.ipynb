{
 "cells": [
  {
   "cell_type": "code",
   "execution_count": null,
   "id": "27c4785b-6de9-49d0-b2b3-4501d52372a8",
   "metadata": {},
   "outputs": [],
   "source": [
    "# Lookalike Model\n",
    "#This notebook demonstrates the development of a Lookalike Model to recommend similar customers based on their spending patterns, purchase quantities, and product diversity.\n"
   ]
  },
  {
   "cell_type": "code",
   "execution_count": null,
   "id": "c5d91394-ccbe-4f55-a035-687d01bc9f5e",
   "metadata": {},
   "outputs": [],
   "source": [
    "## Data Preparation\n",
    "from sklearn.metrics.pairwise import cosine_similarity\n",
    "from sklearn.preprocessing import StandardScaler\n",
    "import pandas as pd\n",
    "\n",
    "# Load datasets\n",
    "customers = pd.read_csv('data/Customers.csv')\n",
    "transactions = pd.read_csv('data/Transactions.csv')\n",
    "\n",
    "# Merge and aggregate data\n",
    "customer_agg = customers[['CustomerID']].copy()\n",
    "transaction_agg = transactions.groupby('CustomerID').agg({\n",
    "    'TotalValue': 'sum',\n",
    "    'Quantity': 'sum',\n",
    "    'ProductID': 'nunique'\n",
    "}).reset_index()\n",
    "\n",
    "transaction_agg.rename(columns={'ProductID': 'NumProductsPurchased'}, inplace=True)\n",
    "\n",
    "# Merge with customer data\n",
    "customer_agg = customer_agg.merge(transaction_agg, on='CustomerID', how='left')\n",
    "customer_agg.fillna(0, inplace=True)\n",
    "\n",
    "display(customer_agg.head())\n"
   ]
  },
  {
   "cell_type": "code",
   "execution_count": null,
   "id": "cf82e002-0f71-40aa-8788-e9b9fd77efab",
   "metadata": {},
   "outputs": [],
   "source": [
    "## Computing Cosine Similarity\n",
    "# Normalize data\n",
    "scaler = StandardScaler()\n",
    "features = ['TotalValue', 'Quantity', 'NumProductsPurchased']\n",
    "customer_agg_scaled = scaler.fit_transform(customer_agg[features])\n",
    "\n",
    "# Compute cosine similarity\n",
    "similarity_matrix = cosine_similarity(customer_agg_scaled)\n",
    "similarity_df = pd.DataFrame(similarity_matrix, index=customer_agg['CustomerID'], columns=customer_agg['CustomerID'])\n",
    "\n",
    "display(similarity_df.head())\n"
   ]
  },
  {
   "cell_type": "code",
   "execution_count": null,
   "id": "b46452f7-533f-4fc2-b522-625ea3bc05d4",
   "metadata": {},
   "outputs": [],
   "source": [
    "## Generate Recommendations\n",
    "def get_top_3_lookalikes(customer_id, similarity_df):\n",
    "    similar_customers = similarity_df.loc[customer_id].sort_values(ascending=False).iloc[1:4]\n",
    "    return similar_customers\n",
    "\n",
    "# Generate recommendations for first 20 customers\n",
    "recommendations = {}\n",
    "for customer_id in customer_agg['CustomerID'].head(20):\n",
    "    top_3 = get_top_3_lookalikes(customer_id, similarity_df)\n",
    "    recommendations[customer_id] = list(top_3.index)\n",
    "\n",
    "display(recommendations)\n"
   ]
  }
 ],
 "metadata": {
  "kernelspec": {
   "display_name": "Python 3 (ipykernel)",
   "language": "python",
   "name": "python3"
  },
  "language_info": {
   "codemirror_mode": {
    "name": "ipython",
    "version": 3
   },
   "file_extension": ".py",
   "mimetype": "text/x-python",
   "name": "python",
   "nbconvert_exporter": "python",
   "pygments_lexer": "ipython3",
   "version": "3.12.1"
  }
 },
 "nbformat": 4,
 "nbformat_minor": 5
}
