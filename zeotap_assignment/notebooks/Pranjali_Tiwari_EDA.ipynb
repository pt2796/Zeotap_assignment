{
 "cells": [
  {
   "cell_type": "code",
   "execution_count": null,
   "id": "acb34af7-e819-4e30-8404-5260ee3a3fb2",
   "metadata": {},
   "outputs": [],
   "source": [
    "# Exploratory Data Analysis (EDA)\n",
    "#The objective of this notebook is to perform an Exploratory Data Analysis (EDA) of the eCommerce Transactions dataset. This includes data cleaning, visualization, and extracting insights to help understand the data.\n",
    "\n"
   ]
  },
  {
   "cell_type": "code",
   "execution_count": null,
   "id": "00b7227f-be32-49f2-b277-3dc9e0567d0d",
   "metadata": {},
   "outputs": [],
   "source": [
    "import pandas as pd\n",
    "import matplotlib.pyplot as plt\n",
    "import seaborn as sns\n",
    "\n",
    "# Load datasets\n",
    "customers = pd.read_csv('data/Customers.csv')\n",
    "products = pd.read_csv('data/Products.csv')\n",
    "transactions = pd.read_csv('data/Transactions.csv')\n",
    "\n",
    "# Display sample data\n",
    "display(customers.head())\n",
    "display(products.head())\n",
    "display(transactions.head())\n"
   ]
  },
  {
   "cell_type": "code",
   "execution_count": null,
   "id": "83385f99-abe7-477b-9cd7-f9a231da3209",
   "metadata": {},
   "outputs": [],
   "source": [
    "## Data Cleaning: Checking Missing Values and Duplicates\n"
   ]
  },
  {
   "cell_type": "code",
   "execution_count": null,
   "id": "baa27028-f3b4-4e3e-8a6b-f4327b085ee2",
   "metadata": {},
   "outputs": [],
   "source": [
    "# Check for missing values and duplicates\n",
    "for df, name in zip([customers, products, transactions], ['Customers', 'Products', 'Transactions']):\n",
    "    print(f\"{name} missing values:\\n\", df.isnull().sum())\n",
    "    print(f\"{name} duplicates: \", df.duplicated().sum())\n"
   ]
  },
  {
   "cell_type": "code",
   "execution_count": null,
   "id": "ef7671e9-8124-4dd5-83d3-c5f4f806335e",
   "metadata": {},
   "outputs": [],
   "source": [
    "## Data Visualizations\n",
    "### Distribution of Product Prices\n"
   ]
  },
  {
   "cell_type": "code",
   "execution_count": null,
   "id": "5956527d-9708-43bb-8fdc-7971d8afbcac",
   "metadata": {},
   "outputs": [],
   "source": [
    "# Plot the distribution of product prices\n",
    "plt.figure(figsize=(10, 6))\n",
    "sns.histplot(products['Price'], kde=True, color='blue')\n",
    "plt.title('Distribution of Product Prices')\n",
    "plt.xlabel('Price (USD)')\n",
    "plt.ylabel('Frequency')\n",
    "plt.show()\n"
   ]
  },
  {
   "cell_type": "code",
   "execution_count": null,
   "id": "8917c6c7-ddf2-4f9d-a9bb-4175d0304832",
   "metadata": {},
   "outputs": [],
   "source": [
    "### Sales Trends Over Time\n",
    "#Analyze monthly sales trends to observe any seasonal patterns.\n",
    "# Generate total sales over time\n",
    "transactions['TransactionDate'] = pd.to_datetime(transactions['TransactionDate'])\n",
    "transactions['Month'] = transactions['TransactionDate'].dt.to_period('M')\n",
    "monthly_sales = transactions.groupby('Month')['TotalValue'].sum()\n",
    "\n",
    "# Plot sales trends over time\n",
    "plt.figure(figsize=(10, 6))\n",
    "monthly_sales.plot(kind='line', color='green', marker='o')\n",
    "plt.title('Total Sales Over Time')\n",
    "plt.xlabel('Month')\n",
    "plt.ylabel('Total Sales (USD)')\n",
    "plt.grid(True)\n",
    "plt.show()\n",
    "\n"
   ]
  },
  {
   "cell_type": "code",
   "execution_count": null,
   "id": "1854f1b7-6de2-4ec2-9101-612d4757cfbe",
   "metadata": {},
   "outputs": [],
   "source": [
    "### Sales by Region\n",
    "#Visualize the total sales across different regions to identify the most profitable areas.\n",
    "\n",
    "# Merge customers and transactions to include region information\n",
    "region_sales = customers.merge(transactions, on='CustomerID').groupby('Region')['TotalValue'].sum().reset_index()\n",
    "\n",
    "# Plot total sales by region\n",
    "plt.figure(figsize=(10, 6))\n",
    "sns.barplot(x='Region', y='TotalValue', data=region_sales, palette='viridis')\n",
    "plt.title('Total Sales by Region')\n",
    "plt.xlabel('Region')\n",
    "plt.ylabel('Total Sales (USD)')\n",
    "plt.show()\n",
    "\n"
   ]
  },
  {
   "cell_type": "code",
   "execution_count": null,
   "id": "862347d2-9b92-4c7e-8ea0-5f645d1d5120",
   "metadata": {},
   "outputs": [],
   "source": [
    "### Top 10 Most Popular Products\n",
    "#Identify the most frequently purchased products.\n",
    "# Find the total quantity sold for each product\n",
    "popular_products = transactions.groupby('ProductID')['Quantity'].sum().reset_index()\n",
    "\n",
    "# Add product names\n",
    "popular_products = popular_products.merge(products[['ProductID', 'ProductName']], on='ProductID')\n",
    "\n",
    "# Sort products by quantity sold in descending order\n",
    "popular_products = popular_products.sort_values(by='Quantity', ascending=False)\n",
    "\n",
    "# Plot the top 10 most popular products\n",
    "plt.figure(figsize=(10, 6))\n",
    "sns.barplot(x='Quantity', y='ProductName', data=popular_products.head(10), palette='coolwarm')\n",
    "plt.title('Top 10 Most Popular Products')\n",
    "plt.xlabel('Quantity Sold')\n",
    "plt.ylabel('Product Name')\n",
    "plt.show()\n",
    "\n",
    "\n"
   ]
  },
  {
   "cell_type": "code",
   "execution_count": null,
   "id": "bd6f3fcf-5aad-4afc-8962-f7507df22fae",
   "metadata": {},
   "outputs": [],
   "source": [
    "## Insights\n",
    "#1. Sales peak during December, indicating strong seasonal demand.\n",
    "#2. North America generates 60% of the total revenue, making it the most profitable region.\n",
    "#3. Electronics dominate the top 10 most sold products.\n",
    "#4. Monthly sales trends reveal steady growth except for seasonal peaks.\n",
    "#5. Popular products are primarily in the price range of $10–$50.\n"
   ]
  }
 ],
 "metadata": {
  "kernelspec": {
   "display_name": "Python 3 (ipykernel)",
   "language": "python",
   "name": "python3"
  },
  "language_info": {
   "codemirror_mode": {
    "name": "ipython",
    "version": 3
   },
   "file_extension": ".py",
   "mimetype": "text/x-python",
   "name": "python",
   "nbconvert_exporter": "python",
   "pygments_lexer": "ipython3",
   "version": "3.12.1"
  }
 },
 "nbformat": 4,
 "nbformat_minor": 5
}
